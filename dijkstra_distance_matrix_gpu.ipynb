{
  "cells": [
    {
      "cell_type": "markdown",
      "metadata": {
        "id": "Wf5KrEb6vrkR"
      },
      "source": [
        "<div class=\"markdown-google-sans\">\n",
        "  <h1>GPU Adjacency Matrix</h1>\n",
        "</div>\n"
      ]
    },
    {
      "cell_type": "code",
      "execution_count": null,
      "metadata": {
        "id": "zwFnJsE6vjf8"
      },
      "outputs": [],
      "source": [
        "import osmnx as ox\n",
        "import networkx as nx\n",
        "import pandas as pd\n",
        "import cudf\n",
        "import cugraph as cg\n",
        "import os"
      ]
    },
    {
      "cell_type": "code",
      "execution_count": null,
      "metadata": {
        "colab": {
          "base_uri": "https://localhost:8080/",
          "height": 34
        },
        "id": "gJr_9dXGpJ05",
        "outputId": "9f556d03-ec67-4950-a485-cfdba9ddd14d"
      },
      "outputs": [
        {
          "data": {
            "text/plain": [
              "86400"
            ]
          },
          "execution_count": 0,
          "metadata": {
            "tags": []
          },
          "output_type": "execute_result"
        }
      ],
      "source": [
        "# Function definitions\n",
        "def fetch_road_network(place, network_type='drive'):\n",
        "    ox.config(use_cache=True)\n",
        "    graph = ox.graph_from_place(place, network_type=network_type)\n",
        "    graph = ox.utils_graph.get_undirected(graph)\n",
        "    return graph\n",
        "\n",
        "def convert_nx_to_cugraph(nx_graph):\n",
        "    edges_df = nx.to_pandas_edgelist(nx_graph)\n",
        "    edges_df = edges_df.rename(columns={\"source\": \"src\", \"target\": \"dst\", \"weight\": \"length\"})\n",
        "    edges_gdf = cudf.DataFrame.from_pandas(edges_df[['src', 'dst', 'length']])\n",
        "    G = cg.Graph()\n",
        "    G.from_cudf_edgelist(edges_gdf, source='src', destination='dst', edge_attr='length')\n",
        "    return G\n",
        "\n",
        "def find_nearest_nodes_and_calculate_shortest_paths(G, sensors_df, nx_graph):\n",
        "    # Initialize an empty DataFrame for distances\n",
        "    distances_df = pd.DataFrame(index=sensors_df['detid'], columns=sensors_df['detid'], data=float('inf'))\n",
        "    \n",
        "    for index, sensor_row in sensors_df.iterrows():\n",
        "        sensor_lat = sensor_row['lat']\n",
        "        sensor_long = sensor_row['long']\n",
        "        sensor_detid = sensor_row['detid']\n",
        "        \n",
        "        # Find nearest node in the NetworkX graph (CPU operation)\n",
        "        nearest_node = ox.get_nearest_node(nx_graph, (sensor_lat, sensor_long))\n",
        "        \n",
        "        # Store nearest node id for reference\n",
        "        sensors_df.at[index, 'node_id'] = nearest_node\n",
        "        \n",
        "        # Compute shortest paths from this node to all others (GPU operation)\n",
        "        df_shortest_paths = cg.sssp(G, nearest_node)\n",
        "        \n",
        "        # Map shortest paths back to sensors based on nearest nodes\n",
        "        for _, target_sensor_row in sensors_df.iterrows():\n",
        "            target_nearest_node = target_sensor_row['node_id']\n",
        "            target_detid = target_sensor_row['detid']\n",
        "            if nearest_node != target_nearest_node:\n",
        "                try:\n",
        "                    path_distance = df_shortest_paths.query('vertex == @target_nearest_node')['distance'].values[0]\n",
        "                    distances_df.at[sensor_detid, target_detid] = path_distance\n",
        "                except Exception as e:\n",
        "                    print(f\"Error computing path from {sensor_detid} to {target_detid}: {e}\")\n",
        "    \n",
        "    distances_df.replace(float('inf'), 999999, inplace=True)\n",
        "    return distances_df"
      ]
    },
    {
      "cell_type": "code",
      "execution_count": null,
      "metadata": {
        "colab": {
          "base_uri": "https://localhost:8080/",
          "height": 34
        },
        "id": "-gE-Ez1qtyIA",
        "outputId": "94cb2224-0edf-457b-90b5-0ac3488d8a97"
      },
      "outputs": [
        {
          "data": {
            "text/plain": [
              "604800"
            ]
          },
          "execution_count": 0,
          "metadata": {
            "tags": []
          },
          "output_type": "execute_result"
        }
      ],
      "source": [
        "# Main process\n",
        "if __name__ == '__main__':\n",
        "    # Fetch and prepare the road network\n",
        "    place = \"Munich, Bavaria, Germany\"\n",
        "    nx_graph = fetch_road_network(place, network_type='drive')\n",
        "    \n",
        "    # Convert the NetworkX graph to a cuGraph graph\n",
        "    cu_graph = convert_nx_to_cugraph(nx_graph)\n",
        "    \n",
        "    # Data import path\n",
        "    OS_PATH = os.path.dirname(os.path.realpath('__file__'))\n",
        "    SENSORS_CSV = os.path.join(OS_PATH, 'data/munich/munich_sensors.csv')\n",
        "    \n",
        "    # Import sensors data\n",
        "    sensors_df = pd.read_csv(SENSORS_CSV)\n",
        "    sensors_df = sensors_df.loc[:, [\"detid\", \"lat\", \"long\"]]\n",
        "    sensors_df.dropna(subset=['lat', 'long', 'detid'], how='any', inplace=True)\n",
        "    \n",
        "    # Find nearest nodes in the road network and calculate shortest paths using cuGraph\n",
        "    adjacency_matrix = find_nearest_nodes_and_calculate_shortest_paths(cu_graph, sensors_df, nx_graph)\n",
        "    \n",
        "    # Output and save the adjacency matrix\n",
        "    print(adjacency_matrix)\n",
        "    adjacency_matrix.to_csv(os.path.join(OS_PATH, 'output/munich_adjacency_matrix.csv'))\n"
      ]
    }
  ],
  "metadata": {
    "colab": {
      "name": "Willkommen bei Colaboratory",
      "provenance": [],
      "toc_visible": true
    },
    "kernelspec": {
      "display_name": "Python 3",
      "name": "python3"
    }
  },
  "nbformat": 4,
  "nbformat_minor": 0
}
